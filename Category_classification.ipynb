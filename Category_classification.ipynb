{
 "cells": [
  {
   "cell_type": "code",
   "execution_count": 2,
   "metadata": {},
   "outputs": [
    {
     "name": "stderr",
     "output_type": "stream",
     "text": [
      "/usr/lib/python3/dist-packages/sklearn/cross_validation.py:41: DeprecationWarning: This module was deprecated in version 0.18 in favor of the model_selection module into which all the refactored classes and functions are moved. Also note that the interface of the new CV iterators are different from that of this module. This module will be removed in 0.20.\n",
      "  \"This module will be removed in 0.20.\", DeprecationWarning)\n"
     ]
    }
   ],
   "source": [
    "import os\n",
    "import pandas as pd\n",
    "import warnings\n",
    "warnings.filterwarnings(action='ignore')\n",
    "from sklearn.feature_extraction.text import CountVectorizer\n",
    "from sklearn.naive_bayes import MultinomialNB\n",
    "import re\n",
    "from sklearn.cross_validation import train_test_split"
   ]
  },
  {
   "cell_type": "code",
   "execution_count": 3,
   "metadata": {},
   "outputs": [
    {
     "data": {
      "text/plain": [
       "['Education.csv',\n",
       " 'Comedy.csv',\n",
       " 'Entertainment.csv',\n",
       " 'Beauty.csv',\n",
       " 'Sports.csv',\n",
       " 'Food & Drinks.csv',\n",
       " 'Fashion & Style.csv',\n",
       " 'News & Politics.csv',\n",
       " 'Gaming.csv',\n",
       " 'Music.csv',\n",
       " 'Science & Tech.csv',\n",
       " 'Kids & Animation.csv',\n",
       " 'Health & Fitness.csv',\n",
       " 'Auto & Vehicles.csv']"
      ]
     },
     "execution_count": 3,
     "metadata": {},
     "output_type": "execute_result"
    }
   ],
   "source": [
    "path = \"/home/praveen/Working_files/Category_Work/Training_data/data/Output/\"\n",
    "train_data_folder = os.listdir(path)\n",
    "train_data_folder"
   ]
  },
  {
   "cell_type": "code",
   "execution_count": 4,
   "metadata": {},
   "outputs": [
    {
     "data": {
      "text/plain": [
       "['Auto & Vehicles',\n",
       " 'Beauty',\n",
       " 'Comedy',\n",
       " 'Education',\n",
       " 'Entertainment',\n",
       " 'Fashion & Style',\n",
       " 'Food & Drinks',\n",
       " 'Gaming',\n",
       " 'Health & Fitness',\n",
       " 'Kids & Animation',\n",
       " 'Music',\n",
       " 'News & Politics',\n",
       " 'Science & Tech',\n",
       " 'Sports']"
      ]
     },
     "execution_count": 4,
     "metadata": {},
     "output_type": "execute_result"
    }
   ],
   "source": [
    "target_value = []\n",
    "for cat in sorted(train_data_folder):\n",
    "    cat = re.sub(\".csv\", \"\", cat)\n",
    "    target_value.append(cat)\n",
    "target_value"
   ]
  },
  {
   "cell_type": "code",
   "execution_count": 5,
   "metadata": {},
   "outputs": [
    {
     "data": {
      "text/plain": [
       "{'Auto & Vehicles': 0,\n",
       " 'Beauty': 1,\n",
       " 'Comedy': 2,\n",
       " 'Education': 3,\n",
       " 'Entertainment': 4,\n",
       " 'Fashion & Style': 5,\n",
       " 'Food & Drinks': 6,\n",
       " 'Gaming': 7,\n",
       " 'Health & Fitness': 8,\n",
       " 'Kids & Animation': 9,\n",
       " 'Music': 10,\n",
       " 'News & Politics': 11,\n",
       " 'Science & Tech': 12,\n",
       " 'Sports': 13}"
      ]
     },
     "execution_count": 5,
     "metadata": {},
     "output_type": "execute_result"
    }
   ],
   "source": [
    "target = [0, 1, 2, 3, 4, 5, 6, 7, 8, 9, 10, 11, 12, 13]\n",
    "cat_dict = dict(zip(target_value, target))\n",
    "cat_dict"
   ]
  },
  {
   "cell_type": "code",
   "execution_count": 6,
   "metadata": {},
   "outputs": [],
   "source": [
    "req_train_data = []\n",
    "req_cat = []\n",
    "for val in sorted(target_value):\n",
    "    df = pd.read_csv(path+val+\".csv\", header=None)\n",
    "    for row in df.values:\n",
    "        video_title = str(row[2])\n",
    "        video_desc = str(row[3])\n",
    "        video_tags = str(row[4])\n",
    "        text = video_title.strip() + video_desc.strip() + video_tags.strip()\n",
    "        req_train_data.append(text)\n",
    "        req_cat.append(val)\n",
    "text_data = pd.Series(req_train_data)\n",
    "category = pd.Series(req_cat)"
   ]
  },
  {
   "cell_type": "code",
   "execution_count": 7,
   "metadata": {},
   "outputs": [
    {
     "name": "stdout",
     "output_type": "stream",
     "text": [
      "(359655,)\n",
      "(119885,)\n",
      "(359655,)\n",
      "(119885,)\n"
     ]
    }
   ],
   "source": [
    "X = text_data\n",
    "y = category.map({'Auto & Vehicles': 0, 'Beauty': 1, 'Comedy': 2, 'Education': 3, 'Entertainment': 4,\n",
    "                    'Fashion & Style': 5, 'Food & Drinks': 6, 'Gaming': 7, 'Health & Fitness': 8,\n",
    "                    'Kids & Animation': 9, 'Music': 10, 'News & Politics': 11, 'Science & Tech': 12, \n",
    "                    'Sports': 13})\n",
    "X_train, X_test, y_train, y_test = train_test_split(X, y)\n",
    "print(X_train.shape)\n",
    "print(X_test.shape)\n",
    "print(y_train.shape)\n",
    "print(y_test.shape)"
   ]
  },
  {
   "cell_type": "code",
   "execution_count": 8,
   "metadata": {},
   "outputs": [],
   "source": [
    "vect  = CountVectorizer()"
   ]
  },
  {
   "cell_type": "code",
   "execution_count": 9,
   "metadata": {},
   "outputs": [
    {
     "data": {
      "text/plain": [
       "<359655x519049 sparse matrix of type '<class 'numpy.int64'>'\n",
       "\twith 35326155 stored elements in Compressed Sparse Row format>"
      ]
     },
     "execution_count": 9,
     "metadata": {},
     "output_type": "execute_result"
    }
   ],
   "source": [
    "text_dtm = vect.fit_transform(X_train)\n",
    "text_dtm"
   ]
  },
  {
   "cell_type": "code",
   "execution_count": 10,
   "metadata": {},
   "outputs": [
    {
     "data": {
      "text/plain": [
       "<119885x519049 sparse matrix of type '<class 'numpy.int64'>'\n",
       "\twith 11677118 stored elements in Compressed Sparse Row format>"
      ]
     },
     "execution_count": 10,
     "metadata": {},
     "output_type": "execute_result"
    }
   ],
   "source": [
    "X_test_dtm = vect.transform(X_test)\n",
    "X_test_dtm"
   ]
  },
  {
   "cell_type": "code",
   "execution_count": 11,
   "metadata": {},
   "outputs": [],
   "source": [
    "nb = MultinomialNB()"
   ]
  },
  {
   "cell_type": "code",
   "execution_count": 12,
   "metadata": {},
   "outputs": [
    {
     "data": {
      "text/plain": [
       "MultinomialNB(alpha=1.0, class_prior=None, fit_prior=True)"
      ]
     },
     "execution_count": 12,
     "metadata": {},
     "output_type": "execute_result"
    }
   ],
   "source": [
    "nb.fit(text_dtm, y_train)"
   ]
  },
  {
   "cell_type": "code",
   "execution_count": 13,
   "metadata": {},
   "outputs": [],
   "source": [
    "y_pred = nb.predict(X_test_dtm)"
   ]
  },
  {
   "cell_type": "code",
   "execution_count": 14,
   "metadata": {},
   "outputs": [],
   "source": [
    "from sklearn import metrics"
   ]
  },
  {
   "cell_type": "code",
   "execution_count": 15,
   "metadata": {},
   "outputs": [
    {
     "data": {
      "text/plain": [
       "0.96252241731659505"
      ]
     },
     "execution_count": 15,
     "metadata": {},
     "output_type": "execute_result"
    }
   ],
   "source": [
    "metrics.accuracy_score(y_test, y_pred)"
   ]
  },
  {
   "cell_type": "code",
   "execution_count": 16,
   "metadata": {},
   "outputs": [
    {
     "data": {
      "text/html": [
       "<div>\n",
       "<style scoped>\n",
       "    .dataframe tbody tr th:only-of-type {\n",
       "        vertical-align: middle;\n",
       "    }\n",
       "\n",
       "    .dataframe tbody tr th {\n",
       "        vertical-align: top;\n",
       "    }\n",
       "\n",
       "    .dataframe thead th {\n",
       "        text-align: right;\n",
       "    }\n",
       "</style>\n",
       "<table border=\"1\" class=\"dataframe\">\n",
       "  <thead>\n",
       "    <tr style=\"text-align: right;\">\n",
       "      <th>col_0</th>\n",
       "      <th>0</th>\n",
       "      <th>1</th>\n",
       "      <th>2</th>\n",
       "      <th>3</th>\n",
       "      <th>4</th>\n",
       "      <th>5</th>\n",
       "      <th>6</th>\n",
       "      <th>7</th>\n",
       "      <th>8</th>\n",
       "      <th>9</th>\n",
       "      <th>10</th>\n",
       "      <th>11</th>\n",
       "      <th>12</th>\n",
       "      <th>13</th>\n",
       "    </tr>\n",
       "    <tr>\n",
       "      <th>row_0</th>\n",
       "      <th></th>\n",
       "      <th></th>\n",
       "      <th></th>\n",
       "      <th></th>\n",
       "      <th></th>\n",
       "      <th></th>\n",
       "      <th></th>\n",
       "      <th></th>\n",
       "      <th></th>\n",
       "      <th></th>\n",
       "      <th></th>\n",
       "      <th></th>\n",
       "      <th></th>\n",
       "      <th></th>\n",
       "    </tr>\n",
       "  </thead>\n",
       "  <tbody>\n",
       "    <tr>\n",
       "      <th>0</th>\n",
       "      <td>2790</td>\n",
       "      <td>0</td>\n",
       "      <td>0</td>\n",
       "      <td>2</td>\n",
       "      <td>5</td>\n",
       "      <td>0</td>\n",
       "      <td>0</td>\n",
       "      <td>0</td>\n",
       "      <td>15</td>\n",
       "      <td>2</td>\n",
       "      <td>4</td>\n",
       "      <td>17</td>\n",
       "      <td>28</td>\n",
       "      <td>5</td>\n",
       "    </tr>\n",
       "    <tr>\n",
       "      <th>1</th>\n",
       "      <td>1</td>\n",
       "      <td>1018</td>\n",
       "      <td>0</td>\n",
       "      <td>0</td>\n",
       "      <td>1</td>\n",
       "      <td>46</td>\n",
       "      <td>0</td>\n",
       "      <td>0</td>\n",
       "      <td>151</td>\n",
       "      <td>0</td>\n",
       "      <td>1</td>\n",
       "      <td>1</td>\n",
       "      <td>1</td>\n",
       "      <td>0</td>\n",
       "    </tr>\n",
       "    <tr>\n",
       "      <th>2</th>\n",
       "      <td>0</td>\n",
       "      <td>0</td>\n",
       "      <td>928</td>\n",
       "      <td>0</td>\n",
       "      <td>52</td>\n",
       "      <td>0</td>\n",
       "      <td>1</td>\n",
       "      <td>1</td>\n",
       "      <td>11</td>\n",
       "      <td>1</td>\n",
       "      <td>65</td>\n",
       "      <td>15</td>\n",
       "      <td>5</td>\n",
       "      <td>2</td>\n",
       "    </tr>\n",
       "    <tr>\n",
       "      <th>3</th>\n",
       "      <td>7</td>\n",
       "      <td>3</td>\n",
       "      <td>2</td>\n",
       "      <td>8014</td>\n",
       "      <td>22</td>\n",
       "      <td>28</td>\n",
       "      <td>3</td>\n",
       "      <td>10</td>\n",
       "      <td>52</td>\n",
       "      <td>21</td>\n",
       "      <td>0</td>\n",
       "      <td>50</td>\n",
       "      <td>23</td>\n",
       "      <td>25</td>\n",
       "    </tr>\n",
       "    <tr>\n",
       "      <th>4</th>\n",
       "      <td>1</td>\n",
       "      <td>1</td>\n",
       "      <td>20</td>\n",
       "      <td>1</td>\n",
       "      <td>24681</td>\n",
       "      <td>4</td>\n",
       "      <td>30</td>\n",
       "      <td>0</td>\n",
       "      <td>39</td>\n",
       "      <td>7</td>\n",
       "      <td>514</td>\n",
       "      <td>75</td>\n",
       "      <td>0</td>\n",
       "      <td>13</td>\n",
       "    </tr>\n",
       "    <tr>\n",
       "      <th>5</th>\n",
       "      <td>0</td>\n",
       "      <td>23</td>\n",
       "      <td>2</td>\n",
       "      <td>2</td>\n",
       "      <td>11</td>\n",
       "      <td>3065</td>\n",
       "      <td>11</td>\n",
       "      <td>0</td>\n",
       "      <td>20</td>\n",
       "      <td>6</td>\n",
       "      <td>1</td>\n",
       "      <td>1</td>\n",
       "      <td>15</td>\n",
       "      <td>3</td>\n",
       "    </tr>\n",
       "    <tr>\n",
       "      <th>6</th>\n",
       "      <td>1</td>\n",
       "      <td>9</td>\n",
       "      <td>1</td>\n",
       "      <td>1</td>\n",
       "      <td>2</td>\n",
       "      <td>1</td>\n",
       "      <td>2014</td>\n",
       "      <td>0</td>\n",
       "      <td>49</td>\n",
       "      <td>2</td>\n",
       "      <td>4</td>\n",
       "      <td>1</td>\n",
       "      <td>4</td>\n",
       "      <td>2</td>\n",
       "    </tr>\n",
       "    <tr>\n",
       "      <th>7</th>\n",
       "      <td>4</td>\n",
       "      <td>1</td>\n",
       "      <td>0</td>\n",
       "      <td>1</td>\n",
       "      <td>2</td>\n",
       "      <td>0</td>\n",
       "      <td>0</td>\n",
       "      <td>1346</td>\n",
       "      <td>1</td>\n",
       "      <td>0</td>\n",
       "      <td>1</td>\n",
       "      <td>1</td>\n",
       "      <td>17</td>\n",
       "      <td>2</td>\n",
       "    </tr>\n",
       "    <tr>\n",
       "      <th>8</th>\n",
       "      <td>0</td>\n",
       "      <td>177</td>\n",
       "      <td>1</td>\n",
       "      <td>26</td>\n",
       "      <td>13</td>\n",
       "      <td>16</td>\n",
       "      <td>25</td>\n",
       "      <td>2</td>\n",
       "      <td>3681</td>\n",
       "      <td>5</td>\n",
       "      <td>2</td>\n",
       "      <td>67</td>\n",
       "      <td>10</td>\n",
       "      <td>6</td>\n",
       "    </tr>\n",
       "    <tr>\n",
       "      <th>9</th>\n",
       "      <td>0</td>\n",
       "      <td>5</td>\n",
       "      <td>0</td>\n",
       "      <td>2</td>\n",
       "      <td>16</td>\n",
       "      <td>11</td>\n",
       "      <td>19</td>\n",
       "      <td>0</td>\n",
       "      <td>4</td>\n",
       "      <td>1555</td>\n",
       "      <td>12</td>\n",
       "      <td>3</td>\n",
       "      <td>0</td>\n",
       "      <td>1</td>\n",
       "    </tr>\n",
       "    <tr>\n",
       "      <th>10</th>\n",
       "      <td>0</td>\n",
       "      <td>0</td>\n",
       "      <td>0</td>\n",
       "      <td>0</td>\n",
       "      <td>73</td>\n",
       "      <td>0</td>\n",
       "      <td>0</td>\n",
       "      <td>1</td>\n",
       "      <td>6</td>\n",
       "      <td>1</td>\n",
       "      <td>12664</td>\n",
       "      <td>3</td>\n",
       "      <td>0</td>\n",
       "      <td>0</td>\n",
       "    </tr>\n",
       "    <tr>\n",
       "      <th>11</th>\n",
       "      <td>35</td>\n",
       "      <td>3</td>\n",
       "      <td>12</td>\n",
       "      <td>24</td>\n",
       "      <td>560</td>\n",
       "      <td>2</td>\n",
       "      <td>6</td>\n",
       "      <td>3</td>\n",
       "      <td>731</td>\n",
       "      <td>1</td>\n",
       "      <td>66</td>\n",
       "      <td>47115</td>\n",
       "      <td>62</td>\n",
       "      <td>663</td>\n",
       "    </tr>\n",
       "    <tr>\n",
       "      <th>12</th>\n",
       "      <td>2</td>\n",
       "      <td>4</td>\n",
       "      <td>3</td>\n",
       "      <td>12</td>\n",
       "      <td>1</td>\n",
       "      <td>0</td>\n",
       "      <td>3</td>\n",
       "      <td>13</td>\n",
       "      <td>24</td>\n",
       "      <td>0</td>\n",
       "      <td>0</td>\n",
       "      <td>6</td>\n",
       "      <td>2984</td>\n",
       "      <td>14</td>\n",
       "    </tr>\n",
       "    <tr>\n",
       "      <th>13</th>\n",
       "      <td>1</td>\n",
       "      <td>1</td>\n",
       "      <td>1</td>\n",
       "      <td>3</td>\n",
       "      <td>9</td>\n",
       "      <td>0</td>\n",
       "      <td>0</td>\n",
       "      <td>0</td>\n",
       "      <td>32</td>\n",
       "      <td>0</td>\n",
       "      <td>3</td>\n",
       "      <td>98</td>\n",
       "      <td>2</td>\n",
       "      <td>3537</td>\n",
       "    </tr>\n",
       "  </tbody>\n",
       "</table>\n",
       "</div>"
      ],
      "text/plain": [
       "col_0    0     1    2     3      4     5     6     7     8     9      10  \\\n",
       "row_0                                                                      \n",
       "0      2790     0    0     2      5     0     0     0    15     2      4   \n",
       "1         1  1018    0     0      1    46     0     0   151     0      1   \n",
       "2         0     0  928     0     52     0     1     1    11     1     65   \n",
       "3         7     3    2  8014     22    28     3    10    52    21      0   \n",
       "4         1     1   20     1  24681     4    30     0    39     7    514   \n",
       "5         0    23    2     2     11  3065    11     0    20     6      1   \n",
       "6         1     9    1     1      2     1  2014     0    49     2      4   \n",
       "7         4     1    0     1      2     0     0  1346     1     0      1   \n",
       "8         0   177    1    26     13    16    25     2  3681     5      2   \n",
       "9         0     5    0     2     16    11    19     0     4  1555     12   \n",
       "10        0     0    0     0     73     0     0     1     6     1  12664   \n",
       "11       35     3   12    24    560     2     6     3   731     1     66   \n",
       "12        2     4    3    12      1     0     3    13    24     0      0   \n",
       "13        1     1    1     3      9     0     0     0    32     0      3   \n",
       "\n",
       "col_0     11    12    13  \n",
       "row_0                     \n",
       "0         17    28     5  \n",
       "1          1     1     0  \n",
       "2         15     5     2  \n",
       "3         50    23    25  \n",
       "4         75     0    13  \n",
       "5          1    15     3  \n",
       "6          1     4     2  \n",
       "7          1    17     2  \n",
       "8         67    10     6  \n",
       "9          3     0     1  \n",
       "10         3     0     0  \n",
       "11     47115    62   663  \n",
       "12         6  2984    14  \n",
       "13        98     2  3537  "
      ]
     },
     "execution_count": 16,
     "metadata": {},
     "output_type": "execute_result"
    }
   ],
   "source": [
    "pd.crosstab(y_test, y_pred)"
   ]
  },
  {
   "cell_type": "code",
   "execution_count": 22,
   "metadata": {},
   "outputs": [
    {
     "name": "stdout",
     "output_type": "stream",
     "text": [
      "Gaming\n",
      "Kids & Animation\n",
      "Gaming\n",
      "News & Politics\n",
      "Auto & Vehicles\n"
     ]
    }
   ],
   "source": [
    "import csv\n",
    "import codecs\n",
    "input_file = pd.read_csv(\"/home/praveen/Working_files/Category_Work/shuffle_UK_channel_meta.csv\", header=None)\n",
    "with codecs.open(\"/home/praveen/Working_files/test.csv\", \"w\", encoding=\"utf-8\") as output_file:\n",
    "    csv_writer = csv.writer(output_file)\n",
    "    data_list = []\n",
    "    for video_data in input_file.values[:5]:\n",
    "        input_video_title = str(video_data[5])\n",
    "        input_video_desc = str(video_data[6])\n",
    "        input_video_tags = str(video_data[7])\n",
    "        description = [input_video_title.strip() + input_video_desc.strip() + input_video_tags.strip()]\n",
    "        description_dtm = vect.transform(description)\n",
    "        pred_val = nb.predict(description_dtm)\n",
    "        for k,v in cat_dict.items():\n",
    "            if pred_val == v:\n",
    "                print(k)"
   ]
  },
  {
   "cell_type": "code",
   "execution_count": null,
   "metadata": {},
   "outputs": [],
   "source": []
  }
 ],
 "metadata": {
  "kernelspec": {
   "display_name": "Python 3",
   "language": "python",
   "name": "python3"
  },
  "language_info": {
   "codemirror_mode": {
    "name": "ipython",
    "version": 3
   },
   "file_extension": ".py",
   "mimetype": "text/x-python",
   "name": "python",
   "nbconvert_exporter": "python",
   "pygments_lexer": "ipython3",
   "version": "3.6.5"
  }
 },
 "nbformat": 4,
 "nbformat_minor": 2
}
